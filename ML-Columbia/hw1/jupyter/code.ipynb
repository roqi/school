{
 "cells": [
  {
   "cell_type": "code",
   "execution_count": 552,
   "metadata": {},
   "outputs": [
    {
     "name": "stdout",
     "output_type": "stream",
     "text": [
      "X_test.csv\n",
      "X_train.csv\n",
      "y_test.csv\n",
      "y_train.csv\n",
      "\n"
     ]
    }
   ],
   "source": [
    "import pandas as pd\n",
    "import numpy as np\n",
    "\n",
    "from subprocess import check_output\n",
    "print(check_output([\"ls\", \"./hw1-data\"]).decode(\"utf8\"))"
   ]
  },
  {
   "cell_type": "code",
   "execution_count": 553,
   "metadata": {},
   "outputs": [
    {
     "name": "stdout",
     "output_type": "stream",
     "text": [
      "(350, 6)\n"
     ]
    },
    {
     "data": {
      "text/html": [
       "<div>\n",
       "<style scoped>\n",
       "    .dataframe tbody tr th:only-of-type {\n",
       "        vertical-align: middle;\n",
       "    }\n",
       "\n",
       "    .dataframe tbody tr th {\n",
       "        vertical-align: top;\n",
       "    }\n",
       "\n",
       "    .dataframe thead th {\n",
       "        text-align: right;\n",
       "    }\n",
       "</style>\n",
       "<table border=\"1\" class=\"dataframe\">\n",
       "  <thead>\n",
       "    <tr style=\"text-align: right;\">\n",
       "      <th></th>\n",
       "      <th>0</th>\n",
       "      <th>1</th>\n",
       "      <th>2</th>\n",
       "      <th>3</th>\n",
       "      <th>4</th>\n",
       "      <th>5</th>\n",
       "    </tr>\n",
       "  </thead>\n",
       "  <tbody>\n",
       "    <tr>\n",
       "      <th>0</th>\n",
       "      <td>0.30957</td>\n",
       "      <td>-0.36707</td>\n",
       "      <td>0.45545</td>\n",
       "      <td>-0.200830</td>\n",
       "      <td>-0.73992</td>\n",
       "      <td>-0.80885</td>\n",
       "    </tr>\n",
       "    <tr>\n",
       "      <th>1</th>\n",
       "      <td>0.30957</td>\n",
       "      <td>0.35920</td>\n",
       "      <td>-0.11611</td>\n",
       "      <td>-0.038361</td>\n",
       "      <td>0.16625</td>\n",
       "      <td>-0.80885</td>\n",
       "    </tr>\n",
       "    <tr>\n",
       "      <th>2</th>\n",
       "      <td>-0.86291</td>\n",
       "      <td>-0.99778</td>\n",
       "      <td>-0.89551</td>\n",
       "      <td>-1.225100</td>\n",
       "      <td>-0.55868</td>\n",
       "      <td>-0.26592</td>\n",
       "    </tr>\n",
       "    <tr>\n",
       "      <th>3</th>\n",
       "      <td>-0.86291</td>\n",
       "      <td>-0.69198</td>\n",
       "      <td>-0.42787</td>\n",
       "      <td>-0.562260</td>\n",
       "      <td>-0.15997</td>\n",
       "      <td>1.09140</td>\n",
       "    </tr>\n",
       "    <tr>\n",
       "      <th>4</th>\n",
       "      <td>-0.86291</td>\n",
       "      <td>-0.92133</td>\n",
       "      <td>-0.63571</td>\n",
       "      <td>-1.251000</td>\n",
       "      <td>-0.41369</td>\n",
       "      <td>0.81993</td>\n",
       "    </tr>\n",
       "  </tbody>\n",
       "</table>\n",
       "</div>"
      ],
      "text/plain": [
       "         0        1        2         3        4        5\n",
       "0  0.30957 -0.36707  0.45545 -0.200830 -0.73992 -0.80885\n",
       "1  0.30957  0.35920 -0.11611 -0.038361  0.16625 -0.80885\n",
       "2 -0.86291 -0.99778 -0.89551 -1.225100 -0.55868 -0.26592\n",
       "3 -0.86291 -0.69198 -0.42787 -0.562260 -0.15997  1.09140\n",
       "4 -0.86291 -0.92133 -0.63571 -1.251000 -0.41369  0.81993"
      ]
     },
     "execution_count": 553,
     "metadata": {},
     "output_type": "execute_result"
    }
   ],
   "source": [
    "X_train_full = pd.read_csv(\"./hw1-data/X_train.csv\", header=None)\n",
    "X_train = X_train_full.drop([6], axis=1)\n",
    "print(X_train.shape)\n",
    "X_train.head()\n"
   ]
  },
  {
   "cell_type": "code",
   "execution_count": 554,
   "metadata": {},
   "outputs": [
    {
     "data": {
      "text/html": [
       "<div>\n",
       "<style scoped>\n",
       "    .dataframe tbody tr th:only-of-type {\n",
       "        vertical-align: middle;\n",
       "    }\n",
       "\n",
       "    .dataframe tbody tr th {\n",
       "        vertical-align: top;\n",
       "    }\n",
       "\n",
       "    .dataframe thead th {\n",
       "        text-align: right;\n",
       "    }\n",
       "</style>\n",
       "<table border=\"1\" class=\"dataframe\">\n",
       "  <thead>\n",
       "    <tr style=\"text-align: right;\">\n",
       "      <th></th>\n",
       "      <th>0</th>\n",
       "    </tr>\n",
       "  </thead>\n",
       "  <tbody>\n",
       "    <tr>\n",
       "      <th>0</th>\n",
       "      <td>-3.4459</td>\n",
       "    </tr>\n",
       "    <tr>\n",
       "      <th>1</th>\n",
       "      <td>-5.4459</td>\n",
       "    </tr>\n",
       "    <tr>\n",
       "      <th>2</th>\n",
       "      <td>5.5541</td>\n",
       "    </tr>\n",
       "    <tr>\n",
       "      <th>3</th>\n",
       "      <td>11.5540</td>\n",
       "    </tr>\n",
       "    <tr>\n",
       "      <th>4</th>\n",
       "      <td>12.2540</td>\n",
       "    </tr>\n",
       "  </tbody>\n",
       "</table>\n",
       "</div>"
      ],
      "text/plain": [
       "         0\n",
       "0  -3.4459\n",
       "1  -5.4459\n",
       "2   5.5541\n",
       "3  11.5540\n",
       "4  12.2540"
      ]
     },
     "execution_count": 554,
     "metadata": {},
     "output_type": "execute_result"
    }
   ],
   "source": [
    "y_train = pd.read_csv(\"./hw1-data/y_train.csv\", header=None)\n",
    "y_train.head()"
   ]
  },
  {
   "cell_type": "code",
   "execution_count": 555,
   "metadata": {},
   "outputs": [
    {
     "data": {
      "text/plain": [
       "((350, 6), (6,), (6, 6))"
      ]
     },
     "execution_count": 555,
     "metadata": {},
     "output_type": "execute_result"
    }
   ],
   "source": [
    "u, s, vh = np.linalg.svd(X_train, full_matrices=False)\n",
    "u.shape, s.shape, vh.shape"
   ]
  },
  {
   "cell_type": "code",
   "execution_count": 556,
   "metadata": {},
   "outputs": [
    {
     "data": {
      "text/plain": [
       "True"
      ]
     },
     "execution_count": 556,
     "metadata": {},
     "output_type": "execute_result"
    }
   ],
   "source": [
    "np.allclose(X_train, np.dot(u * s, vh))"
   ]
  },
  {
   "cell_type": "code",
   "execution_count": 557,
   "metadata": {},
   "outputs": [],
   "source": [
    "s_mat = np.diag(s)"
   ]
  },
  {
   "cell_type": "code",
   "execution_count": 558,
   "metadata": {
    "scrolled": true
   },
   "outputs": [
    {
     "data": {
      "text/plain": [
       "(5001, 7)"
      ]
     },
     "execution_count": 558,
     "metadata": {},
     "output_type": "execute_result"
    }
   ],
   "source": [
    "WRR = []\n",
    "\n",
    "w_ls = np.dot(np.linalg.inv(np.dot(np.transpose(X_train), X_train)), np.dot(np.transpose(X_train), y_train))\n",
    "v = vh.T\n",
    "for lmda in range(5001):    \n",
    "    w_rr = np.append(np.dot(np.linalg.inv(np.dot(X_train.T,X_train) + lmda * np.identity(np.shape(np.dot(X_train.T, y_train))[0])), np.dot(X_train.T, y_train)), np.mean(y_train))\n",
    "    WRR.append(w_rr)\n",
    "\n",
    "WRR = np.array(WRR)\n",
    "WRR.shape"
   ]
  },
  {
   "cell_type": "code",
   "execution_count": 559,
   "metadata": {},
   "outputs": [
    {
     "data": {
      "text/plain": [
       "array([ 37.96221572,  16.91947966,  15.42100981,   6.70644826,\n",
       "         4.68955116,   3.56635938])"
      ]
     },
     "execution_count": 559,
     "metadata": {},
     "output_type": "execute_result"
    }
   ],
   "source": [
    "# df lambda\n",
    "df_l = []\n",
    "\n",
    "for i in range(5001):\n",
    "    df_l.append(np.sum(s**2/(i + s**2)))\n",
    "\n",
    "s"
   ]
  },
  {
   "cell_type": "code",
   "execution_count": 560,
   "metadata": {},
   "outputs": [
    {
     "data": {
      "image/png": "[encoded data removed]",
      "text/plain": [
       "<matplotlib.figure.Figure at 0x10e83a588>"
      ]
     },
     "metadata": {},
     "output_type": "display_data"
    }
   ],
   "source": [
    "import matplotlib.pyplot as plt\n",
    "\n",
    "\n",
    "plt.figure()\n",
    "for i in range(6):\n",
    "    pp, = plt.plot(df_l, WRR[:, i])\n",
    "    pp.set_label(str(i+1))\n",
    "plt.legend()\n",
    "plt.xlabel('df(lambda)')\n",
    "plt.ylabel('w_rr')\n",
    "plt.show()"
   ]
  },
  {
   "cell_type": "markdown",
   "metadata": {},
   "source": [
    "### (b) The 4th dimension (car weight) and 6th dimension (car year) clearly stand out over the other dimensions. What information can we get from this?"
   ]
  },
  {
   "cell_type": "markdown",
   "metadata": {},
   "source": [
    "All the other dimensions did not change very much as lambda approached 5000 except the 4th and 6th dimensions. They had considerably higher magnitudes when lambda was close to 0 (maximum likelihood) and decreased the more we penalized them for their magnitudes. \n",
    "\n",
    "This tells us that without any bias and depending strictly on the model's maximum likelihood, those two dimensions are seen as very influencial. I.E. the bigger the car weight and/or the smaller the car year, the lower the miles per gallon of the car. Obviously our RR assumption (prior) is that no single feature should have so much influence therefore lambda's increase brings those features' magnitudes down."
   ]
  },
  {
   "cell_type": "code",
   "execution_count": 561,
   "metadata": {},
   "outputs": [
    {
     "name": "stdout",
     "output_type": "stream",
     "text": [
      "(42, 7)\n"
     ]
    },
    {
     "data": {
      "text/html": [
       "<div>\n",
       "<style scoped>\n",
       "    .dataframe tbody tr th:only-of-type {\n",
       "        vertical-align: middle;\n",
       "    }\n",
       "\n",
       "    .dataframe tbody tr th {\n",
       "        vertical-align: top;\n",
       "    }\n",
       "\n",
       "    .dataframe thead th {\n",
       "        text-align: right;\n",
       "    }\n",
       "</style>\n",
       "<table border=\"1\" class=\"dataframe\">\n",
       "  <thead>\n",
       "    <tr style=\"text-align: right;\">\n",
       "      <th></th>\n",
       "      <th>0</th>\n",
       "      <th>1</th>\n",
       "      <th>2</th>\n",
       "      <th>3</th>\n",
       "      <th>4</th>\n",
       "      <th>5</th>\n",
       "      <th>6</th>\n",
       "    </tr>\n",
       "  </thead>\n",
       "  <tbody>\n",
       "    <tr>\n",
       "      <th>0</th>\n",
       "      <td>0.30957</td>\n",
       "      <td>0.34964</td>\n",
       "      <td>0.013785</td>\n",
       "      <td>0.52674</td>\n",
       "      <td>0.49248</td>\n",
       "      <td>0.27700</td>\n",
       "      <td>1</td>\n",
       "    </tr>\n",
       "    <tr>\n",
       "      <th>1</th>\n",
       "      <td>1.48210</td>\n",
       "      <td>1.48680</td>\n",
       "      <td>1.572600</td>\n",
       "      <td>0.84226</td>\n",
       "      <td>-1.46490</td>\n",
       "      <td>-1.62320</td>\n",
       "      <td>1</td>\n",
       "    </tr>\n",
       "    <tr>\n",
       "      <th>2</th>\n",
       "      <td>-0.86291</td>\n",
       "      <td>-0.71110</td>\n",
       "      <td>-0.661690</td>\n",
       "      <td>-0.41510</td>\n",
       "      <td>1.10870</td>\n",
       "      <td>1.63430</td>\n",
       "      <td>1</td>\n",
       "    </tr>\n",
       "    <tr>\n",
       "      <th>3</th>\n",
       "      <td>0.30957</td>\n",
       "      <td>0.53121</td>\n",
       "      <td>-0.116110</td>\n",
       "      <td>0.94586</td>\n",
       "      <td>0.52872</td>\n",
       "      <td>-0.53739</td>\n",
       "      <td>1</td>\n",
       "    </tr>\n",
       "    <tr>\n",
       "      <th>4</th>\n",
       "      <td>1.48210</td>\n",
       "      <td>1.02810</td>\n",
       "      <td>0.897110</td>\n",
       "      <td>0.26774</td>\n",
       "      <td>-1.57360</td>\n",
       "      <td>0.54847</td>\n",
       "      <td>1</td>\n",
       "    </tr>\n",
       "  </tbody>\n",
       "</table>\n",
       "</div>"
      ],
      "text/plain": [
       "         0        1         2        3        4        5  6\n",
       "0  0.30957  0.34964  0.013785  0.52674  0.49248  0.27700  1\n",
       "1  1.48210  1.48680  1.572600  0.84226 -1.46490 -1.62320  1\n",
       "2 -0.86291 -0.71110 -0.661690 -0.41510  1.10870  1.63430  1\n",
       "3  0.30957  0.53121 -0.116110  0.94586  0.52872 -0.53739  1\n",
       "4  1.48210  1.02810  0.897110  0.26774 -1.57360  0.54847  1"
      ]
     },
     "execution_count": 561,
     "metadata": {},
     "output_type": "execute_result"
    }
   ],
   "source": [
    "X_test = pd.read_csv(\"./hw1-data/X_test.csv\", header=None)\n",
    "print(X_test.shape)\n",
    "X_test.head()"
   ]
  },
  {
   "cell_type": "code",
   "execution_count": 562,
   "metadata": {},
   "outputs": [
    {
     "data": {
      "text/html": [
       "<div>\n",
       "<style scoped>\n",
       "    .dataframe tbody tr th:only-of-type {\n",
       "        vertical-align: middle;\n",
       "    }\n",
       "\n",
       "    .dataframe tbody tr th {\n",
       "        vertical-align: top;\n",
       "    }\n",
       "\n",
       "    .dataframe thead th {\n",
       "        text-align: right;\n",
       "    }\n",
       "</style>\n",
       "<table border=\"1\" class=\"dataframe\">\n",
       "  <thead>\n",
       "    <tr style=\"text-align: right;\">\n",
       "      <th></th>\n",
       "      <th>0</th>\n",
       "    </tr>\n",
       "  </thead>\n",
       "  <tbody>\n",
       "    <tr>\n",
       "      <th>0</th>\n",
       "      <td>-2.9459</td>\n",
       "    </tr>\n",
       "    <tr>\n",
       "      <th>1</th>\n",
       "      <td>-8.4459</td>\n",
       "    </tr>\n",
       "    <tr>\n",
       "      <th>2</th>\n",
       "      <td>4.5541</td>\n",
       "    </tr>\n",
       "    <tr>\n",
       "      <th>3</th>\n",
       "      <td>-7.4459</td>\n",
       "    </tr>\n",
       "    <tr>\n",
       "      <th>4</th>\n",
       "      <td>-5.3459</td>\n",
       "    </tr>\n",
       "  </tbody>\n",
       "</table>\n",
       "</div>"
      ],
      "text/plain": [
       "        0\n",
       "0 -2.9459\n",
       "1 -8.4459\n",
       "2  4.5541\n",
       "3 -7.4459\n",
       "4 -5.3459"
      ]
     },
     "execution_count": 562,
     "metadata": {},
     "output_type": "execute_result"
    }
   ],
   "source": [
    "y_test = pd.read_csv(\"./hw1-data/y_test.csv\", header=None)\n",
    "y_test.head()\n",
    "\n"
   ]
  },
  {
   "cell_type": "code",
   "execution_count": 563,
   "metadata": {},
   "outputs": [],
   "source": [
    "def RMSE(y_test, y_pred):\n",
    "    np.sqrt(np.sum((y_test-y_pred)**2)/42)\n",
    "\n",
    "y_pred = []\n",
    "for i in range(51):\n",
    "    w_rr_i = WRR[i]\n",
    "    y_pred.append(np.dot(X_test , w_rr_i))\n",
    "    \n",
    "y_pred = np.array(y_pred)\n",
    "y_pred.shape\n",
    "\n",
    "RMSE_ar = []\n",
    "\n",
    "for i in range(51):\n",
    "    RMSE_ar.append(np.sqrt(np.sum((np.squeeze(y_test) - y_pred[i])**2)/42))\n"
   ]
  },
  {
   "cell_type": "code",
   "execution_count": 564,
   "metadata": {},
   "outputs": [
    {
     "data": {
      "image/png": "[encoded data removed]",
      "text/plain": [
       "<matplotlib.figure.Figure at 0x10e823400>"
      ]
     },
     "metadata": {},
     "output_type": "display_data"
    }
   ],
   "source": [
    "plt.figure()\n",
    "\n",
    "pp, = plt.plot(range(51), RMSE_ar )\n",
    "plt.xlabel('lambda')\n",
    "plt.ylabel('RMSE')\n",
    "plt.show()"
   ]
  },
  {
   "cell_type": "markdown",
   "metadata": {},
   "source": [
    "### (c)\n",
    "The increase of lambda is only increasing the error so using ridge regression in this example is not helping generalize our model on the test data. We are better off using least square (lambda = 0)."
   ]
  },
  {
   "cell_type": "code",
   "execution_count": 565,
   "metadata": {},
   "outputs": [],
   "source": [
    "X_train_2 = np.concatenate((np.array(X_train), np.array(X_train)**2), axis =1)\n",
    "X_train_2_norm = X_train_2 - X_train_2.mean(0)\n",
    "# X_train_2_norm = np.append(X_train_2_norm, np.array([1 for i in range(350)]).reshape(350, 1), axis=1)\n",
    "\n",
    "X_test_2 = np.concatenate((np.array(X_test.drop(6, axis=1)), np.array(X_test.drop(6, axis=1))**2), axis =1)\n",
    "X_test_2_norm = np.concatenate((np.array(X_test.drop(6, axis=1)), np.array(X_test.drop(6, axis=1))**2), axis =1) - X_train_2.mean(0) \n",
    "\n",
    "X_train_3 = np.concatenate((X_train_2, np.array(X_train)**3), axis =1)\n",
    "X_train_3_norm = X_train_3 - X_train_3.mean(0)\n",
    "\n",
    "X_test_3_norm = np.concatenate((np.array(X_test_2), np.array(X_test.drop(6, axis=1))**3), axis =1) - X_train_3.mean(0)\n"
   ]
  },
  {
   "cell_type": "code",
   "execution_count": 566,
   "metadata": {},
   "outputs": [
    {
     "data": {
      "text/plain": [
       "(501, 12, 1)"
      ]
     },
     "execution_count": 566,
     "metadata": {},
     "output_type": "execute_result"
    }
   ],
   "source": [
    "WRR_2 = []\n",
    "for lmda in range(501):    \n",
    "    w_rr = np.dot(np.linalg.inv(np.dot(X_train_2_norm.T,X_train_2_norm) + lmda * np.identity(np.shape(np.dot(X_train_2_norm.T, y_train))[0])), np.dot(X_train_2.T, y_train))\n",
    "    WRR_2.append(w_rr)\n",
    "\n",
    "WRR_2 = np.array(WRR_2)\n",
    "WRR_2.shape\n",
    "\n",
    "\n",
    "\n"
   ]
  },
  {
   "cell_type": "code",
   "execution_count": 567,
   "metadata": {},
   "outputs": [
    {
     "data": {
      "text/plain": [
       "(501, 18, 1)"
      ]
     },
     "execution_count": 567,
     "metadata": {},
     "output_type": "execute_result"
    }
   ],
   "source": [
    "WRR_3 = []\n",
    "for lmda in range(501):    \n",
    "    w_rr = np.dot(np.linalg.inv(np.dot(X_train_3_norm.T,X_train_3_norm) + lmda * np.identity(np.shape(np.dot(X_train_3_norm.T, y_train))[0])), np.dot(X_train_3.T, y_train))\n",
    "    WRR_3.append(w_rr)\n",
    "\n",
    "WRR_3 = np.array(WRR_3)\n",
    "WRR_3.shape\n"
   ]
  },
  {
   "cell_type": "code",
   "execution_count": 568,
   "metadata": {},
   "outputs": [
    {
     "data": {
      "text/plain": [
       "501"
      ]
     },
     "execution_count": 568,
     "metadata": {},
     "output_type": "execute_result"
    }
   ],
   "source": [
    "y_pred_1 = []\n",
    "for i in range(501):\n",
    "    w_rr_i = WRR[i]\n",
    "    y_pred_1.append(np.dot(X_test , w_rr_i))\n",
    "    \n",
    "y_pred_1 = np.array(y_pred_1)\n",
    "y_pred.shape\n",
    "\n",
    "RMSE_ar_1 = []\n",
    "\n",
    "for i in range(501):\n",
    "    RMSE_ar_1.append(np.sqrt(np.sum((np.squeeze(y_test) - y_pred_1[i])**2)/42))\n",
    "    \n",
    "len(RMSE_ar_1)"
   ]
  },
  {
   "cell_type": "code",
   "execution_count": 569,
   "metadata": {},
   "outputs": [
    {
     "data": {
      "text/plain": [
       "501"
      ]
     },
     "execution_count": 569,
     "metadata": {},
     "output_type": "execute_result"
    }
   ],
   "source": [
    "y_pred_2 = []\n",
    "for i in range(501):\n",
    "    w_rr_i_2 = WRR_2[i]\n",
    "    y_pred_2.append(np.dot(X_test_2_norm , w_rr_i_2))\n",
    "    \n",
    "y_pred_2 = np.array(y_pred_2).reshape(501, 42)\n",
    "\n",
    "RMSE_ar_2 = []\n",
    "\n",
    "for i in range(501):\n",
    "    RMSE_ar_2.append(np.sqrt(np.sum((np.squeeze(y_test) - y_pred_2[i])**2)/42))\n",
    "    \n",
    "len(RMSE_ar_2)"
   ]
  },
  {
   "cell_type": "code",
   "execution_count": 570,
   "metadata": {},
   "outputs": [
    {
     "data": {
      "text/plain": [
       "501"
      ]
     },
     "execution_count": 570,
     "metadata": {},
     "output_type": "execute_result"
    }
   ],
   "source": [
    "y_pred_3 = []\n",
    "for i in range(501):\n",
    "    w_rr_i_3 = WRR_3[i]\n",
    "    y_pred_3.append(np.dot(X_test_3_norm , w_rr_i_3))\n",
    "\n",
    "\n",
    "y_pred_3 = np.array(y_pred_3).reshape(501, 42)\n",
    "\n",
    "RMSE_ar_3 = []\n",
    "\n",
    "for i in range(501):\n",
    "    RMSE_ar_3.append(np.sqrt(np.sum((np.squeeze(y_test) - y_pred_3[i])**2)/42))\n",
    "    \n",
    "len(RMSE_ar_3)"
   ]
  },
  {
   "cell_type": "code",
   "execution_count": 571,
   "metadata": {},
   "outputs": [
    {
     "data": {
      "image/png": "[encoded data removed]",
      "text/plain": [
       "<matplotlib.figure.Figure at 0x10e82a438>"
      ]
     },
     "metadata": {},
     "output_type": "display_data"
    }
   ],
   "source": [
    "plt.figure()\n",
    "pp, = plt.plot(range(501), RMSE_ar_1 )\n",
    "pp.set_label(\"1th\")\n",
    "pp, = plt.plot(range(501), RMSE_ar_2 )\n",
    "pp.set_label(\"2nd\")\n",
    "pp, = plt.plot(range(501), RMSE_ar_3 )\n",
    "pp.set_label(\"3rd\")\n",
    "plt.legend()\n",
    "plt.xlabel('lambda')\n",
    "plt.ylabel('RMSE')\n",
    "plt.show()"
   ]
  },
  {
   "cell_type": "markdown",
   "metadata": {},
   "source": [
    "### Part 2 (d)\n",
    "p = 2 is clearly better than the others. Compared to p=1, here ridge regression does make sense as there is an optimal lambda in which the RMSE is at its lowest. "
   ]
  }
 ],
 "metadata": {
  "kernelspec": {
   "display_name": "Python 3",
   "language": "python",
   "name": "python3"
  },
  "language_info": {
   "codemirror_mode": {
    "name": "ipython",
    "version": 3
   },
   "file_extension": ".py",
   "mimetype": "text/x-python",
   "name": "python",
   "nbconvert_exporter": "python",
   "pygments_lexer": "ipython3",
   "version": "3.6.4"
  }
 },
 "nbformat": 4,
 "nbformat_minor": 2
}
